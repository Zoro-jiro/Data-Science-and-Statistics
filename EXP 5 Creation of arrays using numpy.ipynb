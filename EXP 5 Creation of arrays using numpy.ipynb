{
 "cells": [
  {
   "cell_type": "markdown",
   "id": "d23bac1b-dfb4-4d24-84fe-3eb403cec945",
   "metadata": {},
   "source": [
    "# Creation of arrays using numpy"
   ]
  },
  {
   "cell_type": "code",
   "execution_count": 2,
   "id": "745a2043-afc5-4811-b2fd-15f2a3d2aa1c",
   "metadata": {},
   "outputs": [],
   "source": [
    "# Experiment 5"
   ]
  },
  {
   "cell_type": "code",
   "execution_count": 4,
   "id": "e251e115-68eb-4c16-a29a-02438c0b52ee",
   "metadata": {},
   "outputs": [],
   "source": [
    "#Aim: To create and manipulate arrays using NumPy for efficient numerical computations in Python."
   ]
  },
  {
   "cell_type": "code",
   "execution_count": 5,
   "id": "e30bfd37-e9be-47f5-aed3-803cb2da6b5c",
   "metadata": {},
   "outputs": [],
   "source": [
    "#Name: Ayush C Nimat \n",
    "#Roll no: 46\n",
    "#Sec: A\n",
    "#Subject: Data Science and Statistics"
   ]
  },
  {
   "cell_type": "code",
   "execution_count": 6,
   "id": "d71d8f6a-6d78-4501-b2f0-31f18449b751",
   "metadata": {},
   "outputs": [],
   "source": [
    "import numpy as np"
   ]
  },
  {
   "cell_type": "code",
   "execution_count": 7,
   "id": "b0f39a65-5dc3-40b8-b1dd-596a14ea0d3c",
   "metadata": {},
   "outputs": [
    {
     "name": "stdout",
     "output_type": "stream",
     "text": [
      "1D Array: [1 2 3 4 5]\n",
      "2D Array:\n",
      " [[1 2 3]\n",
      " [4 5 6]]\n",
      "3D Array:\n",
      " [[[1]\n",
      "  [2]]\n",
      "\n",
      " [[3]\n",
      "  [4]]]\n"
     ]
    }
   ],
   "source": [
    "# 1D Array\n",
    "arr1d = np.array([1, 2, 3, 4, 5])\n",
    "print(\"1D Array:\", arr1d)\n",
    "\n",
    "# 2D Array\n",
    "arr2d = np.array([[1, 2, 3], [4, 5, 6]])\n",
    "print(\"2D Array:\\n\", arr2d)\n",
    "\n",
    "# 3D Array\n",
    "arr3d = np.array([[[1], [2]], [[3], [4]]])\n",
    "print(\"3D Array:\\n\", arr3d)"
   ]
  },
  {
   "cell_type": "code",
   "execution_count": 8,
   "id": "2fcd2cd7-aafc-4f32-b98b-459c75401d59",
   "metadata": {},
   "outputs": [
    {
     "name": "stdout",
     "output_type": "stream",
     "text": [
      "Zeros Array:\n",
      " [[0. 0. 0.]\n",
      " [0. 0. 0.]]\n",
      "Ones Array:\n",
      " [[1. 1. 1.]\n",
      " [1. 1. 1.]\n",
      " [1. 1. 1.]]\n",
      "Identity Matrix:\n",
      " [[1. 0. 0.]\n",
      " [0. 1. 0.]\n",
      " [0. 0. 1.]]\n",
      "Array with np.arange:\n",
      " [0 2 4 6 8]\n",
      "Array with np.linspace:\n",
      " [0.   0.25 0.5  0.75 1.  ]\n"
     ]
    }
   ],
   "source": [
    "# Array of zeros\n",
    "zeros_arr = np.zeros((2, 3))\n",
    "print(\"Zeros Array:\\n\", zeros_arr)\n",
    "\n",
    "# Array of ones\n",
    "ones_arr = np.ones((3, 3))\n",
    "print(\"Ones Array:\\n\", ones_arr)\n",
    "\n",
    "# Identity matrix\n",
    "identity_arr = np.eye(3)\n",
    "print(\"Identity Matrix:\\n\", identity_arr)\n",
    "\n",
    "# Range of numbers\n",
    "range_arr = np.arange(0, 10, 2)\n",
    "print(\"Array with np.arange:\\n\", range_arr)\n",
    "\n",
    "# Evenly spaced values\n",
    "linspace_arr = np.linspace(0, 1, 5)\n",
    "print(\"Array with np.linspace:\\n\", linspace_arr)"
   ]
  },
  {
   "cell_type": "code",
   "execution_count": 9,
   "id": "9abca0cb-bb00-48b2-8581-a4e9bfc6079a",
   "metadata": {},
   "outputs": [
    {
     "name": "stdout",
     "output_type": "stream",
     "text": [
      "Shape of arr2d: (2, 3)\n",
      "Size of arr2d: 6\n",
      "Data type of arr2d: int64\n"
     ]
    }
   ],
   "source": [
    "print(\"Shape of arr2d:\", arr2d.shape)\n",
    "print(\"Size of arr2d:\", arr2d.size)\n",
    "print(\"Data type of arr2d:\", arr2d.dtype)"
   ]
  },
  {
   "cell_type": "code",
   "execution_count": 10,
   "id": "adb19402-d4aa-44a3-83a5-58cf53314536",
   "metadata": {},
   "outputs": [
    {
     "name": "stdout",
     "output_type": "stream",
     "text": [
      "Reshaped Array:\n",
      " [[1 2]\n",
      " [3 4]\n",
      " [5 6]]\n",
      "First row of arr2d: [1 2 3]\n",
      "Element at row 1, col 2: 6\n"
     ]
    }
   ],
   "source": [
    "reshaped = arr2d.reshape(3, 2)\n",
    "print(\"Reshaped Array:\\n\", reshaped)\n",
    "\n",
    "# Slicing\n",
    "print(\"First row of arr2d:\", arr2d[0])\n",
    "print(\"Element at row 1, col 2:\", arr2d[1, 2])"
   ]
  },
  {
   "cell_type": "code",
   "execution_count": 11,
   "id": "2b9f92c8-a03b-4e63-8302-5351bdd1244d",
   "metadata": {},
   "outputs": [
    {
     "name": "stdout",
     "output_type": "stream",
     "text": [
      "Addition: [5 7 9]\n",
      "Multiplication: [ 4 10 18]\n",
      "Square root: [1.         1.41421356 1.73205081]\n"
     ]
    }
   ],
   "source": [
    "a = np.array([1, 2, 3])\n",
    "b = np.array([4, 5, 6])\n",
    "\n",
    "print(\"Addition:\", a + b)\n",
    "print(\"Multiplication:\", a * b)\n",
    "print(\"Square root:\", np.sqrt(a))"
   ]
  },
  {
   "cell_type": "markdown",
   "id": "0fb8c1ec-cf4a-4354-80cd-e273f8a09729",
   "metadata": {},
   "source": [
    "## ✅ Conclusion:"
   ]
  },
  {
   "cell_type": "markdown",
   "id": "fab8a078-8679-476d-a1a4-2eee67b7832b",
   "metadata": {},
   "source": [
    "This practical covered the creation of 1D, 2D, and 3D arrays using NumPy, along with array operations like reshaping, slicing, and arithmetic."
   ]
  }
 ],
 "metadata": {
  "kernelspec": {
   "display_name": "Python 3 (ipykernel)",
   "language": "python",
   "name": "python3"
  },
  "language_info": {
   "codemirror_mode": {
    "name": "ipython",
    "version": 3
   },
   "file_extension": ".py",
   "mimetype": "text/x-python",
   "name": "python",
   "nbconvert_exporter": "python",
   "pygments_lexer": "ipython3",
   "version": "3.13.5"
  }
 },
 "nbformat": 4,
 "nbformat_minor": 5
}
