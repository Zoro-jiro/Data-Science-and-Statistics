{
 "cells": [
  {
   "cell_type": "markdown",
   "id": "6b9361f1-00b9-421a-98a2-6e1191c20bac",
   "metadata": {},
   "source": [
    "# Basics of Data frame"
   ]
  },
  {
   "cell_type": "code",
   "execution_count": 14,
   "id": "3ea4ac13-05c8-4f99-98ce-67e52e1a7138",
   "metadata": {},
   "outputs": [],
   "source": [
    "#Experiment 3"
   ]
  },
  {
   "cell_type": "code",
   "execution_count": 15,
   "id": "914db147-0c30-4003-93b7-12870fffdc7e",
   "metadata": {},
   "outputs": [],
   "source": [
    "#Aim: To understand the structure and operations of DataFrames for efficient data manipulation using Pandas."
   ]
  },
  {
   "cell_type": "code",
   "execution_count": 16,
   "id": "946a6cf5-fa49-4426-8e69-f3829406a2a6",
   "metadata": {},
   "outputs": [],
   "source": [
    "#Name: Ayush C Nimat \n",
    "#Roll no: 46\n",
    "#Sec: A\n",
    "#Subject: Data Science and Statistics"
   ]
  },
  {
   "cell_type": "code",
   "execution_count": 17,
   "id": "98e6f306-80fb-492e-a6c4-09fea0f2bbe6",
   "metadata": {},
   "outputs": [],
   "source": [
    "import pandas as pd"
   ]
  },
  {
   "cell_type": "code",
   "execution_count": 18,
   "id": "eba37d3e-c46c-4a13-b773-cdfe3439ae58",
   "metadata": {},
   "outputs": [
    {
     "name": "stdout",
     "output_type": "stream",
     "text": [
      "      Name  Age      City\n",
      "0    Alice   24  New York\n",
      "1      Bob   27     Paris\n",
      "2  Charlie   22    London\n",
      "3    David   32     Tokyo\n"
     ]
    }
   ],
   "source": [
    "# Creating a simple DataFrame using a dictionary\n",
    "data = {\n",
    "    'Name': ['Alice', 'Bob', 'Charlie', 'David'],\n",
    "    'Age': [24, 27, 22, 32],\n",
    "    'City': ['New York', 'Paris', 'London', 'Tokyo']\n",
    "}\n",
    "\n",
    "df = pd.DataFrame(data)\n",
    "print(df)"
   ]
  },
  {
   "cell_type": "code",
   "execution_count": 19,
   "id": "560a178f-5a61-4416-8f1f-a1ddfcf7b030",
   "metadata": {},
   "outputs": [
    {
     "name": "stdout",
     "output_type": "stream",
     "text": [
      "Shape of DataFrame: (4, 3)\n"
     ]
    }
   ],
   "source": [
    "print(\"Shape of DataFrame:\", df.shape)"
   ]
  },
  {
   "cell_type": "code",
   "execution_count": 21,
   "id": "06ddb230-d46b-43f9-abd8-2fc99dfc5683",
   "metadata": {},
   "outputs": [
    {
     "name": "stdout",
     "output_type": "stream",
     "text": [
      "Data Types:\n",
      " Name    object\n",
      "Age      int64\n",
      "City    object\n",
      "dtype: object\n"
     ]
    }
   ],
   "source": [
    "print(\"Data Types:\\n\", df.dtypes)"
   ]
  },
  {
   "cell_type": "code",
   "execution_count": 22,
   "id": "954e3167-f7a7-409d-977f-e88cd4a38816",
   "metadata": {},
   "outputs": [
    {
     "name": "stdout",
     "output_type": "stream",
     "text": [
      "Columns: Index(['Name', 'Age', 'City'], dtype='object')\n"
     ]
    }
   ],
   "source": [
    "print(\"Columns:\", df.columns)"
   ]
  },
  {
   "cell_type": "code",
   "execution_count": 23,
   "id": "ed0b5a13-35d4-4faf-b381-6821332871d5",
   "metadata": {},
   "outputs": [
    {
     "name": "stdout",
     "output_type": "stream",
     "text": [
      "Index: RangeIndex(start=0, stop=4, step=1)\n"
     ]
    }
   ],
   "source": [
    "print(\"Index:\", df.index)"
   ]
  },
  {
   "cell_type": "code",
   "execution_count": 24,
   "id": "5df38794-e2d7-40e1-a4cc-402d7c588051",
   "metadata": {},
   "outputs": [
    {
     "name": "stdout",
     "output_type": "stream",
     "text": [
      "Name column:\n",
      " 0      Alice\n",
      "1        Bob\n",
      "2    Charlie\n",
      "3      David\n",
      "Name: Name, dtype: object\n"
     ]
    }
   ],
   "source": [
    "print(\"Name column:\\n\", df['Name'])"
   ]
  },
  {
   "cell_type": "code",
   "execution_count": 25,
   "id": "f566157e-661a-4fac-b5d1-ca17394ab8ee",
   "metadata": {},
   "outputs": [
    {
     "name": "stdout",
     "output_type": "stream",
     "text": [
      "Row at index 1:\n",
      " Name      Bob\n",
      "Age        27\n",
      "City    Paris\n",
      "Name: 1, dtype: object\n"
     ]
    }
   ],
   "source": [
    "print(\"Row at index 1:\\n\", df.loc[1])"
   ]
  },
  {
   "cell_type": "code",
   "execution_count": 26,
   "id": "c788db41-26aa-479d-8ee4-158e4c486789",
   "metadata": {},
   "outputs": [
    {
     "name": "stdout",
     "output_type": "stream",
     "text": [
      "First two rows:\n",
      "     Name  Age      City\n",
      "0  Alice   24  New York\n",
      "1    Bob   27     Paris\n"
     ]
    }
   ],
   "source": [
    "print(\"First two rows:\\n\", df.iloc[:2])"
   ]
  },
  {
   "cell_type": "code",
   "execution_count": 32,
   "id": "054d6b8f-7b7d-4dfb-bd41-033ea4c231b6",
   "metadata": {},
   "outputs": [],
   "source": [
    "# Add a new column\n",
    "df['Score'] = [85, 90, 88, 92]"
   ]
  },
  {
   "cell_type": "code",
   "execution_count": 33,
   "id": "3f645f75-ef6a-49d4-9b9b-0fb2604c93fd",
   "metadata": {},
   "outputs": [
    {
     "name": "stdout",
     "output_type": "stream",
     "text": [
      "      Name  Age      City  Score\n",
      "0    Alice   25  New York     85\n",
      "1      Bob   27     Paris     90\n",
      "2  Charlie   22    London     88\n",
      "3    David   32     Tokyo     92\n"
     ]
    }
   ],
   "source": [
    "df.at[0, 'Age'] = 25\n",
    "\n",
    "print(df)"
   ]
  },
  {
   "cell_type": "code",
   "execution_count": 29,
   "id": "377543af-b313-400f-af9d-12cd5ce5f5c3",
   "metadata": {},
   "outputs": [
    {
     "name": "stdout",
     "output_type": "stream",
     "text": [
      "Summary Statistics:\n",
      "              Age      Score\n",
      "count   4.000000   4.000000\n",
      "mean   26.500000  88.750000\n",
      "std     4.203173   2.986079\n",
      "min    22.000000  85.000000\n",
      "25%    24.250000  87.250000\n",
      "50%    26.000000  89.000000\n",
      "75%    28.250000  90.500000\n",
      "max    32.000000  92.000000\n"
     ]
    }
   ],
   "source": [
    "print(\"Summary Statistics:\\n\", df.describe())"
   ]
  },
  {
   "cell_type": "code",
   "execution_count": 30,
   "id": "4fcea6d3-b5a1-481f-a8f5-f8d597b24903",
   "metadata": {},
   "outputs": [
    {
     "name": "stdout",
     "output_type": "stream",
     "text": [
      "Sorted by Age:\n",
      "       Name  Age      City  Score\n",
      "2  Charlie   22    London     88\n",
      "0    Alice   25  New York     85\n",
      "1      Bob   27     Paris     90\n",
      "3    David   32     Tokyo     92\n"
     ]
    }
   ],
   "source": [
    "# Sort by Age\n",
    "sorted_df = df.sort_values(by='Age')\n",
    "print(\"Sorted by Age:\\n\", sorted_df)"
   ]
  },
  {
   "cell_type": "code",
   "execution_count": 31,
   "id": "9d18fcf0-f717-448a-bc25-1e3a93028c59",
   "metadata": {},
   "outputs": [
    {
     "name": "stdout",
     "output_type": "stream",
     "text": [
      "Score > 88:\n",
      "     Name  Age   City  Score\n",
      "1    Bob   27  Paris     90\n",
      "3  David   32  Tokyo     92\n"
     ]
    }
   ],
   "source": [
    "# Filter rows where Score > 88\n",
    "filtered_df = df[df['Score'] > 88]\n",
    "print(\"Score > 88:\\n\", filtered_df)"
   ]
  },
  {
   "cell_type": "markdown",
   "id": "151e6dc6-9e1c-4e11-bc3f-83aa69103e0b",
   "metadata": {},
   "source": [
    "## ✅ Conclusion:"
   ]
  },
  {
   "cell_type": "markdown",
   "id": "f6f74c2a-3f89-4eb6-8cbd-00e28cacf837",
   "metadata": {},
   "source": [
    "This practical provided hands-on experience with creating and manipulating Pandas DataFrames. Key operations such as accessing data, modifying values, filtering, and summarizing were practiced to build a strong foundation in data handling and analysis using Python."
   ]
  }
 ],
 "metadata": {
  "kernelspec": {
   "display_name": "Python 3 (ipykernel)",
   "language": "python",
   "name": "python3"
  },
  "language_info": {
   "codemirror_mode": {
    "name": "ipython",
    "version": 3
   },
   "file_extension": ".py",
   "mimetype": "text/x-python",
   "name": "python",
   "nbconvert_exporter": "python",
   "pygments_lexer": "ipython3",
   "version": "3.13.5"
  }
 },
 "nbformat": 4,
 "nbformat_minor": 5
}
